{
 "cells": [
  {
   "cell_type": "code",
   "execution_count": 1,
   "id": "3372a859-18ea-46bf-86a8-f1de6c6a7aa8",
   "metadata": {},
   "outputs": [
    {
     "ename": "IndentationError",
     "evalue": "expected an indented block after function definition on line 1 (600098787.py, line 4)",
     "output_type": "error",
     "traceback": [
      "\u001b[1;36m  Cell \u001b[1;32mIn[1], line 4\u001b[1;36m\u001b[0m\n\u001b[1;33m    login(\"Rahul\",True)\u001b[0m\n\u001b[1;37m    ^\u001b[0m\n\u001b[1;31mIndentationError\u001b[0m\u001b[1;31m:\u001b[0m expected an indented block after function definition on line 1\n"
     ]
    }
   ],
   "source": [
    "def login(user,status):\n",
    "    \n",
    "\n",
    "login(\"Rahul\",True)\n",
    "login(\"Rahul\",False)"
   ]
  },
  {
   "cell_type": "code",
   "execution_count": 4,
   "id": "6af0bcf7-d59c-4c7d-81b0-2d387135ec18",
   "metadata": {},
   "outputs": [
    {
     "name": "stdout",
     "output_type": "stream",
     "text": [
      "Login Failed\n"
     ]
    }
   ],
   "source": [
    "def login(user,status):\n",
    "    if(status ==True):\n",
    "        print(\"Login Success\")\n",
    "    else:\n",
    "        print(\"Login Failed\")\n",
    "\n",
    "login(\"Rahul\",False)\n",
    "#login(\"Rahul\",False)"
   ]
  },
  {
   "cell_type": "code",
   "execution_count": null,
   "id": "53c28e48-ead4-4fb0-bd27-73f19f6224ab",
   "metadata": {},
   "outputs": [],
   "source": []
  }
 ],
 "metadata": {
  "kernelspec": {
   "display_name": "Python 3 (ipykernel)",
   "language": "python",
   "name": "python3"
  },
  "language_info": {
   "codemirror_mode": {
    "name": "ipython",
    "version": 3
   },
   "file_extension": ".py",
   "mimetype": "text/x-python",
   "name": "python",
   "nbconvert_exporter": "python",
   "pygments_lexer": "ipython3",
   "version": "3.12.2"
  }
 },
 "nbformat": 4,
 "nbformat_minor": 5
}
