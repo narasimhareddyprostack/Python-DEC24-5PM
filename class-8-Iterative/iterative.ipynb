{
 "cells": [
  {
   "cell_type": "code",
   "execution_count": 3,
   "id": "bef409e5-db70-450c-9077-47fdebbd2718",
   "metadata": {},
   "outputs": [
    {
     "name": "stdout",
     "output_type": "stream",
     "text": [
      "Rahul\n",
      "Sonia\n",
      "Priyanka\n"
     ]
    }
   ],
   "source": [
    "#python sequence means - list,tuple,set,range,string,bytes,bytearray,frozenset\n",
    "\n",
    "enames=[\"Rahul\",\"Sonia\",\"Priyanka\"]\n",
    "uids=()\n",
    "eids={}\n",
    "ename=\"Rahul\"\n",
    "r=range(1,11,2)\n",
    "# to iterate sequence,we are using for loop and while loop\n",
    "\n",
    "for ename in enames:\n",
    "    print(ename)\n"
   ]
  },
  {
   "cell_type": "code",
   "execution_count": 4,
   "id": "832f0f4d-e8b3-421a-92ff-7dda7c00df61",
   "metadata": {},
   "outputs": [
    {
     "name": "stdout",
     "output_type": "stream",
     "text": [
      "101\n",
      "102\n",
      "103\n",
      "104\n"
     ]
    }
   ],
   "source": [
    "#python sequence means - list,tuple,set,range,string,bytes,bytearray,frozenset\n",
    "\n",
    "enames=[\"Rahul\",\"Sonia\",\"Priyanka\"]\n",
    "uids=(101,102,103,104)\n",
    "eids={101,101,101,102,102,103}\n",
    "ename=\"Rahul\"\n",
    "r=range(1,11,2)\n",
    "# to iterate sequence,we are using for loop and while loop\n",
    "\n",
    "for uid in uids:\n",
    "    print(uid)"
   ]
  },
  {
   "cell_type": "code",
   "execution_count": 6,
   "id": "01ed7968-57aa-4352-ba20-8c2fea174eab",
   "metadata": {},
   "outputs": [
    {
     "name": "stdout",
     "output_type": "stream",
     "text": [
      "104\n",
      "101\n",
      "102\n",
      "103\n"
     ]
    }
   ],
   "source": [
    "enames=[\"Rahul\",\"Sonia\",\"Priyanka\"]\n",
    "uids=(101,102,103,104)\n",
    "eids={104,101,101,101,102,102,103,101,102,}\n",
    "ename=\"Rahul\"\n",
    "r=range(1,11,2)\n",
    "# to iterate sequence,we are using for loop and while loop\n",
    "\n",
    "for eid in eids:\n",
    "    print(eid)"
   ]
  },
  {
   "cell_type": "code",
   "execution_count": 7,
   "id": "3e1ede21-d4ed-4560-a4e3-b5e06ad0c826",
   "metadata": {},
   "outputs": [
    {
     "name": "stdout",
     "output_type": "stream",
     "text": [
      "R\n",
      "a\n",
      "h\n",
      "u\n",
      "l\n",
      " \n",
      "G\n",
      "a\n",
      "n\n",
      "d\n",
      "h\n",
      "i\n"
     ]
    }
   ],
   "source": [
    "ename=\"Rahul Gandhi\"\n",
    "for ch in ename:\n",
    "    print(ch)"
   ]
  },
  {
   "cell_type": "code",
   "execution_count": 8,
   "id": "4c97145d-931a-46d3-b2e6-cfe130872901",
   "metadata": {},
   "outputs": [
    {
     "name": "stdout",
     "output_type": "stream",
     "text": [
      "1\n",
      "3\n",
      "5\n",
      "7\n",
      "9\n"
     ]
    }
   ],
   "source": [
    "for ele in range(1,11,2):\n",
    "    print(ele)"
   ]
  },
  {
   "cell_type": "code",
   "execution_count": null,
   "id": "55767273-c003-4a81-9181-8f418789379c",
   "metadata": {},
   "outputs": [],
   "source": []
  }
 ],
 "metadata": {
  "kernelspec": {
   "display_name": "Python 3 (ipykernel)",
   "language": "python",
   "name": "python3"
  },
  "language_info": {
   "codemirror_mode": {
    "name": "ipython",
    "version": 3
   },
   "file_extension": ".py",
   "mimetype": "text/x-python",
   "name": "python",
   "nbconvert_exporter": "python",
   "pygments_lexer": "ipython3",
   "version": "3.12.2"
  }
 },
 "nbformat": 4,
 "nbformat_minor": 5
}
