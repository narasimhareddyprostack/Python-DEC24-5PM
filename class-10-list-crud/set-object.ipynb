{
 "cells": [
  {
   "cell_type": "code",
   "execution_count": 1,
   "id": "ffba5611-1555-4666-9d24-72334c56da2a",
   "metadata": {},
   "outputs": [
    {
     "name": "stdout",
     "output_type": "stream",
     "text": [
      "{}\n",
      "{10}\n",
      "set()\n"
     ]
    }
   ],
   "source": [
    "# set - Object\n",
    "s1 = {}\n",
    "s2 = {10}\n",
    "#how to create empty set\n",
    "s3 = set()\n",
    "\n",
    "print(s1)\n",
    "print(s2)\n",
    "print(s3)"
   ]
  },
  {
   "cell_type": "code",
   "execution_count": 2,
   "id": "e088a3db-3433-4db3-b9b1-d2af6e489d22",
   "metadata": {},
   "outputs": [
    {
     "name": "stdout",
     "output_type": "stream",
     "text": [
      "<class 'dict'>\n",
      "<class 'set'>\n",
      "<class 'set'>\n"
     ]
    }
   ],
   "source": [
    "# set - Object\n",
    "s1 = {}\n",
    "s2 = {10}\n",
    "#how to create empty set\n",
    "s3 = set()\n",
    "\n",
    "print(type(s1))\n",
    "print(type(s2))\n",
    "print(type(s3))"
   ]
  },
  {
   "cell_type": "code",
   "execution_count": 3,
   "id": "247db98d-aca1-4bd3-a127-bce19e20141a",
   "metadata": {},
   "outputs": [
    {
     "name": "stdout",
     "output_type": "stream",
     "text": [
      "{101, 102}\n"
     ]
    }
   ],
   "source": [
    "eids={101,101,101,102,102,102,102,102,101,101,101}\n",
    "print(eids)  #set - duplicates are not allowed"
   ]
  },
  {
   "cell_type": "code",
   "execution_count": 4,
   "id": "6f5ceec3-0468-476e-9735-481782f09829",
   "metadata": {},
   "outputs": [
    {
     "name": "stdout",
     "output_type": "stream",
     "text": [
      "[101, 101, 101, 102, 102, 102, 102, 102, 101, 101, 101]\n",
      "(101, 101, 101, 102, 102, 102, 102, 102, 101, 101, 101)\n",
      "{101, 102}\n"
     ]
    }
   ],
   "source": [
    "l1 =[101,101,101,102,102,102,102,102,101,101,101]\n",
    "t1= ( 101,101,101,102,102,102,102,102,101,101,101)\n",
    "s1= {101,101,101,102,102,102,102,102,101,101,101}\n",
    "print(l1)  # list allowed duplicates\n",
    "print(t1)  # tuple allowed duplicates\n",
    "print(s1)  # set doesn't allowed duplicates"
   ]
  },
  {
   "cell_type": "code",
   "execution_count": 7,
   "id": "7a095be6-1855-48fd-9cdc-01008df29302",
   "metadata": {},
   "outputs": [
    {
     "name": "stdout",
     "output_type": "stream",
     "text": [
      "{True, 'Rahul', 20.5, 10, (10, 20)}\n"
     ]
    }
   ],
   "source": [
    "s1 = {10,\"Rahul\",20.5,True,(10,20)}\n",
    "print(s1)"
   ]
  },
  {
   "cell_type": "code",
   "execution_count": 8,
   "id": "10394730-2beb-4c5d-95b7-d44a0c51e32f",
   "metadata": {},
   "outputs": [
    {
     "name": "stdout",
     "output_type": "stream",
     "text": [
      "True\n",
      "Rahul\n",
      "20.5\n",
      "10\n",
      "(10, 20)\n"
     ]
    }
   ],
   "source": [
    "s1 = {10,\"Rahul\",20.5,True,(10,20)}\n",
    "\n",
    "for ele in s1:\n",
    "    print(ele)"
   ]
  },
  {
   "cell_type": "code",
   "execution_count": 9,
   "id": "c2b3f0df-f68e-44df-9f72-c2a44e82d658",
   "metadata": {},
   "outputs": [
    {
     "name": "stdout",
     "output_type": "stream",
     "text": [
      "{True, 'Sonai', 'Rahul', 20.5, 10, (10, 20)}\n"
     ]
    }
   ],
   "source": [
    "s1 = {10,\"Rahul\",20.5,True,(10,20)}\n",
    "s1.add(\"Sonai\")\n",
    "print(s1)"
   ]
  },
  {
   "cell_type": "code",
   "execution_count": 10,
   "id": "490a5fa5-b425-464a-8843-421077fc8b1b",
   "metadata": {},
   "outputs": [
    {
     "name": "stdout",
     "output_type": "stream",
     "text": [
      "set()\n"
     ]
    }
   ],
   "source": [
    "s1 = {10,\"Rahul\",20.5,True,(10,20)}\n",
    "s1.clear()\n",
    "print(s1)"
   ]
  },
  {
   "cell_type": "code",
   "execution_count": 12,
   "id": "4c6424bb-1225-4e38-a00c-03b62ba433fe",
   "metadata": {},
   "outputs": [
    {
     "data": {
      "text/plain": [
       "10"
      ]
     },
     "execution_count": 12,
     "metadata": {},
     "output_type": "execute_result"
    }
   ],
   "source": [
    "s1 = {10,\"Rahul\",20.5,(10,20)}\n",
    "s1.pop()\n"
   ]
  },
  {
   "cell_type": "code",
   "execution_count": 15,
   "id": "0e06c687-0df2-42bd-9cd2-5f7cfeb7b6c8",
   "metadata": {},
   "outputs": [
    {
     "name": "stdout",
     "output_type": "stream",
     "text": [
      "{'Rahul', 20.5, (10, 20)}\n"
     ]
    }
   ],
   "source": [
    "s1 = {10,\"Rahul\",20.5,(10,20),10,10}\n",
    "s1.remove(10)\n",
    "print(s1)"
   ]
  },
  {
   "cell_type": "code",
   "execution_count": 17,
   "id": "3f66031a-0c90-4d6c-b3ef-e5b2a9669440",
   "metadata": {},
   "outputs": [
    {
     "name": "stdout",
     "output_type": "stream",
     "text": [
      "{'Rahul', 20.5, (10, 20)}\n"
     ]
    }
   ],
   "source": [
    "s1 = {10,\"Rahul\",20.5,(10,20),10,10}\n",
    "s1.pop()\n",
    "print(s1)"
   ]
  },
  {
   "cell_type": "code",
   "execution_count": 19,
   "id": "7bf1fc4b-d7e3-413c-9183-df17dc4396b6",
   "metadata": {},
   "outputs": [
    {
     "name": "stdout",
     "output_type": "stream",
     "text": [
      "{20, 20.5, 10, (10, 20)}\n",
      "Rahul\n"
     ]
    }
   ],
   "source": [
    "s1 = {10,20,\"Rahul\",20.5,(10,20),10,10}\n",
    "rem_element=s1.pop()\n",
    "print(s1)\n",
    "print(rem_element)"
   ]
  },
  {
   "cell_type": "code",
   "execution_count": 21,
   "id": "910c7a6f-64bb-4e81-8c50-cb744d733616",
   "metadata": {},
   "outputs": [
    {
     "name": "stdout",
     "output_type": "stream",
     "text": [
      "{101, 102}\n"
     ]
    },
    {
     "ename": "KeyError",
     "evalue": "'Megha'",
     "output_type": "error",
     "traceback": [
      "\u001b[1;31m---------------------------------------------------------------------------\u001b[0m",
      "\u001b[1;31mKeyError\u001b[0m                                  Traceback (most recent call last)",
      "Cell \u001b[1;32mIn[21], line 3\u001b[0m\n\u001b[0;32m      1\u001b[0m s1 \u001b[38;5;241m=\u001b[39m {\u001b[38;5;241m101\u001b[39m,\u001b[38;5;241m101\u001b[39m,\u001b[38;5;241m101\u001b[39m,\u001b[38;5;241m102\u001b[39m,\u001b[38;5;241m102\u001b[39m,\u001b[38;5;241m101\u001b[39m}\n\u001b[0;32m      2\u001b[0m \u001b[38;5;28mprint\u001b[39m(s1)  \u001b[38;5;66;03m#{101,102}\u001b[39;00m\n\u001b[1;32m----> 3\u001b[0m \u001b[43ms1\u001b[49m\u001b[38;5;241;43m.\u001b[39;49m\u001b[43mremove\u001b[49m\u001b[43m(\u001b[49m\u001b[38;5;124;43m\"\u001b[39;49m\u001b[38;5;124;43mMegha\u001b[39;49m\u001b[38;5;124;43m\"\u001b[39;49m\u001b[43m)\u001b[49m\n\u001b[0;32m      4\u001b[0m \u001b[38;5;28mprint\u001b[39m(s1)\n",
      "\u001b[1;31mKeyError\u001b[0m: 'Megha'"
     ]
    }
   ],
   "source": [
    "s1 = {101,101,101,102,102,101}\n",
    "print(s1)  #{101,102}\n",
    "s1.remove(\"Megha\")\n",
    "print(s1)"
   ]
  },
  {
   "cell_type": "code",
   "execution_count": null,
   "id": "4a746a42-0564-44de-ba0c-f44dbbd30f91",
   "metadata": {},
   "outputs": [],
   "source": []
  }
 ],
 "metadata": {
  "kernelspec": {
   "display_name": "Python 3 (ipykernel)",
   "language": "python",
   "name": "python3"
  },
  "language_info": {
   "codemirror_mode": {
    "name": "ipython",
    "version": 3
   },
   "file_extension": ".py",
   "mimetype": "text/x-python",
   "name": "python",
   "nbconvert_exporter": "python",
   "pygments_lexer": "ipython3",
   "version": "3.12.2"
  }
 },
 "nbformat": 4,
 "nbformat_minor": 5
}
