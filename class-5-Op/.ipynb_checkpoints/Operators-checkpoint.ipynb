{
 "cells": [
  {
   "cell_type": "code",
   "execution_count": 1,
   "id": "ab9cacd3-2300-4de3-a9b7-ca8dfe637611",
   "metadata": {},
   "outputs": [
    {
     "name": "stdout",
     "output_type": "stream",
     "text": [
      "30\n"
     ]
    }
   ],
   "source": [
    "a=10   #int\n",
    "b=20   #int\n",
    "print(a+b)"
   ]
  },
  {
   "cell_type": "code",
   "execution_count": 2,
   "id": "0ddbc982-49f6-4132-aa3c-f2ca29edc30c",
   "metadata": {},
   "outputs": [
    {
     "ename": "TypeError",
     "evalue": "unsupported operand type(s) for +: 'int' and 'str'",
     "output_type": "error",
     "traceback": [
      "\u001b[1;31m--------------------------------------------------------------------------\u001b[0m",
      "\u001b[1;31mTypeError\u001b[0m                                Traceback (most recent call last)",
      "Cell \u001b[1;32mIn[2], line 3\u001b[0m\n\u001b[0;32m      1\u001b[0m a\u001b[38;5;241m=\u001b[39m\u001b[38;5;241m10\u001b[39m\n\u001b[0;32m      2\u001b[0m b\u001b[38;5;241m=\u001b[39m\u001b[38;5;124m\"\u001b[39m\u001b[38;5;124mRahul\u001b[39m\u001b[38;5;124m\"\u001b[39m\n\u001b[1;32m----> 3\u001b[0m \u001b[38;5;28mprint\u001b[39m(\u001b[43ma\u001b[49m\u001b[38;5;241;43m+\u001b[39;49m\u001b[43mb\u001b[49m)\n",
      "\u001b[1;31mTypeError\u001b[0m: unsupported operand type(s) for +: 'int' and 'str'"
     ]
    }
   ],
   "source": [
    "a=10\n",
    "b=\"Rahul\"\n",
    "print(a+b)"
   ]
  },
  {
   "cell_type": "code",
   "execution_count": 3,
   "id": "e2c4e32d-cbc6-4f22-b658-7a576e0c52fb",
   "metadata": {},
   "outputs": [
    {
     "name": "stdout",
     "output_type": "stream",
     "text": [
      "RahulGandhi\n"
     ]
    }
   ],
   "source": [
    "f_name=\"Rahul\"\n",
    "l_name=\"Gandhi\"\n",
    "\n",
    "print(f_name+l_name)"
   ]
  },
  {
   "cell_type": "code",
   "execution_count": 4,
   "id": "061953f4-0972-4295-bd49-2bd8e3b63b5c",
   "metadata": {},
   "outputs": [
    {
     "name": "stdout",
     "output_type": "stream",
     "text": [
      "200\n"
     ]
    }
   ],
   "source": [
    "a=10\n",
    "b=20\n",
    "print(a*b)"
   ]
  },
  {
   "cell_type": "code",
   "execution_count": 5,
   "id": "97013954-72e0-4feb-838c-cd04475a6278",
   "metadata": {},
   "outputs": [
    {
     "name": "stdout",
     "output_type": "stream",
     "text": [
      "20202020202020202020\n"
     ]
    }
   ],
   "source": [
    "a=10\n",
    "b=\"20\"\n",
    "print(a*b)"
   ]
  },
  {
   "cell_type": "code",
   "execution_count": 6,
   "id": "353c7828-a2f3-4df5-bdd6-912010637172",
   "metadata": {},
   "outputs": [
    {
     "name": "stdout",
     "output_type": "stream",
     "text": [
      "205.0\n"
     ]
    }
   ],
   "source": [
    "a=10\n",
    "b=20.5\n",
    "c=30\n",
    "print(a*b)"
   ]
  },
  {
   "cell_type": "code",
   "execution_count": 7,
   "id": "e23d6dd2-aad9-41eb-ae17-f623fad9c92a",
   "metadata": {},
   "outputs": [
    {
     "name": "stdout",
     "output_type": "stream",
     "text": [
      "205.0\n",
      "300\n"
     ]
    }
   ],
   "source": [
    "a=10\n",
    "b=20.5\n",
    "c=30\n",
    "print(a*b)\n",
    "print(a*c)"
   ]
  },
  {
   "cell_type": "code",
   "execution_count": 8,
   "id": "64526a5b-ade1-411f-87ba-60d5960b8f2f",
   "metadata": {},
   "outputs": [
    {
     "name": "stdout",
     "output_type": "stream",
     "text": [
      "RahulRahulRahulRahulRahulRahulRahulRahulRahulRahul\n"
     ]
    },
    {
     "ename": "TypeError",
     "evalue": "can't multiply sequence by non-int of type 'str'",
     "output_type": "error",
     "traceback": [
      "\u001b[1;31m--------------------------------------------------------------------------\u001b[0m",
      "\u001b[1;31mTypeError\u001b[0m                                Traceback (most recent call last)",
      "Cell \u001b[1;32mIn[8], line 5\u001b[0m\n\u001b[0;32m      3\u001b[0m c\u001b[38;5;241m=\u001b[39m\u001b[38;5;124m\"\u001b[39m\u001b[38;5;124mGandhi\u001b[39m\u001b[38;5;124m\"\u001b[39m\n\u001b[0;32m      4\u001b[0m \u001b[38;5;28mprint\u001b[39m(a\u001b[38;5;241m*\u001b[39mb) \u001b[38;5;66;03m#\"RahulRahulRahulRahulRahulRahulRahulRahulRahulRahul\"\u001b[39;00m\n\u001b[1;32m----> 5\u001b[0m \u001b[38;5;28mprint\u001b[39m(\u001b[43mb\u001b[49m\u001b[38;5;241;43m*\u001b[39;49m\u001b[43mc\u001b[49m) \u001b[38;5;66;03m#TypeError\u001b[39;00m\n",
      "\u001b[1;31mTypeError\u001b[0m: can't multiply sequence by non-int of type 'str'"
     ]
    }
   ],
   "source": [
    "a=10\n",
    "b=\"Rahul\"\n",
    "c=\"Gandhi\"\n",
    "print(a*b) #\"RahulRahulRahulRahulRahulRahulRahulRahulRahulRahul\"\n",
    "print(b*c) #TypeError"
   ]
  },
  {
   "cell_type": "code",
   "execution_count": 9,
   "id": "4d866286-7f9f-419a-94fa-ed1f7f0b956f",
   "metadata": {},
   "outputs": [
    {
     "name": "stdout",
     "output_type": "stream",
     "text": [
      "2.0\n"
     ]
    }
   ],
   "source": [
    "a=20\n",
    "b=10\n",
    "print(a/b)"
   ]
  },
  {
   "cell_type": "code",
   "execution_count": 10,
   "id": "700cd3c8-59e9-4803-813a-2b01f8f75404",
   "metadata": {},
   "outputs": [
    {
     "name": "stdout",
     "output_type": "stream",
     "text": [
      "2\n"
     ]
    }
   ],
   "source": [
    "a=20\n",
    "b=10\n",
    "print(a//b)"
   ]
  },
  {
   "cell_type": "code",
   "execution_count": 11,
   "id": "325bc317-2136-48cc-b049-ba4ff783a17b",
   "metadata": {},
   "outputs": [
    {
     "name": "stdout",
     "output_type": "stream",
     "text": [
      "4.0\n"
     ]
    }
   ],
   "source": [
    "print(10//2.3)"
   ]
  },
  {
   "cell_type": "code",
   "execution_count": 12,
   "id": "b096b029-df89-4e2d-ae9a-3c1c8e9de980",
   "metadata": {},
   "outputs": [
    {
     "name": "stdout",
     "output_type": "stream",
     "text": [
      "100\n"
     ]
    }
   ],
   "source": [
    "a=10\n",
    "b=2\n",
    "print(a**b)"
   ]
  },
  {
   "cell_type": "code",
   "execution_count": 13,
   "id": "ffafa1b2-d262-4bfd-a89f-ad31f0eea682",
   "metadata": {},
   "outputs": [
    {
     "name": "stdout",
     "output_type": "stream",
     "text": [
      "True\n"
     ]
    }
   ],
   "source": [
    "sal = 45000\n",
    "print(sal >=40000)"
   ]
  },
  {
   "cell_type": "code",
   "execution_count": 14,
   "id": "50d31b4c-eff0-475d-afe1-c4e6c3540246",
   "metadata": {},
   "outputs": [
    {
     "name": "stdout",
     "output_type": "stream",
     "text": [
      "True\n"
     ]
    }
   ],
   "source": [
    "age = 24\n",
    "print(age > 21)\n"
   ]
  },
  {
   "cell_type": "code",
   "execution_count": 15,
   "id": "c2b43ce4-a251-411d-b770-f57488c028a2",
   "metadata": {},
   "outputs": [
    {
     "name": "stdout",
     "output_type": "stream",
     "text": [
      "True\n"
     ]
    }
   ],
   "source": [
    "sal = 45000\n",
    "age = 24\n",
    "print(sal >=40000 and age > 21)"
   ]
  },
  {
   "cell_type": "code",
   "execution_count": 18,
   "id": "5548526e-1333-4083-aa1d-e404c4c2055e",
   "metadata": {},
   "outputs": [
    {
     "name": "stdin",
     "output_type": "stream",
     "text": [
      "Enter Sal: 65000\n",
      "Enter Age: 12\n"
     ]
    },
    {
     "name": "stdout",
     "output_type": "stream",
     "text": [
      "False\n"
     ]
    }
   ],
   "source": [
    "#read emp salary and age from user/keyboard\n",
    "sal = int(input(\"Enter Sal:\"))\n",
    "age = int(input(\"Enter Age:\"))\n",
    "print(sal >=40000 and age >= 21)"
   ]
  },
  {
   "cell_type": "code",
   "execution_count": 19,
   "id": "84008216-30f8-47ba-b207-053fbda6437d",
   "metadata": {},
   "outputs": [
    {
     "name": "stdout",
     "output_type": "stream",
     "text": [
      "True\n"
     ]
    }
   ],
   "source": [
    "print(101 in [101,102,103,104])\n"
   ]
  },
  {
   "cell_type": "code",
   "execution_count": 23,
   "id": "6d97482d-9eba-48e4-b0f6-3a9ee07f41d0",
   "metadata": {},
   "outputs": [
    {
     "name": "stdout",
     "output_type": "stream",
     "text": [
      "False\n"
     ]
    }
   ],
   "source": [
    "enames=(\"Rahul\",\"Sonai\",\"Gandhi\")\n",
    "\n",
    "ename=\"Modi\"\n",
    "print(ename in enames)"
   ]
  },
  {
   "cell_type": "code",
   "execution_count": 25,
   "id": "aeffeec6-7710-4cef-a391-4fcbf0c40e57",
   "metadata": {},
   "outputs": [
    {
     "name": "stdout",
     "output_type": "stream",
     "text": [
      "True\n",
      "True\n",
      "True\n",
      "True\n",
      "True\n",
      "True\n"
     ]
    }
   ],
   "source": [
    "str=\"102030abc\"\n",
    "l=[10,20,30,'a','b','c']\n",
    "t=(10,20,30,'a','b','c')\n",
    "s={10,20,30,'a','b','c'}\n",
    "b=bytes([10,20,30])\n",
    "ba=bytes([10,20,30])\n",
    "r = range(11)\n",
    "\n",
    "print(10 in l)\n",
    "print(10 in t)\n",
    "print(10 in s)\n",
    "print(10 in b)\n",
    "print(10 in ba )\n",
    "print(10 in r )\n",
    "\n",
    "\n"
   ]
  },
  {
   "cell_type": "code",
   "execution_count": 27,
   "id": "c2dab78b-2233-4114-8d31-40ee1f684186",
   "metadata": {},
   "outputs": [
    {
     "name": "stdout",
     "output_type": "stream",
     "text": [
      "140714679814872\n",
      "140714679814872\n",
      "True\n"
     ]
    }
   ],
   "source": [
    "\n",
    "a=10\n",
    "b=10\n",
    "print(id(a))\n",
    "print(id(b))\n",
    "print(a is b)"
   ]
  },
  {
   "cell_type": "code",
   "execution_count": null,
   "id": "f50f3538-9671-4cf1-818b-83c29ff06d16",
   "metadata": {},
   "outputs": [],
   "source": []
  }
 ],
 "metadata": {
  "kernelspec": {
   "display_name": "Python 3 (ipykernel)",
   "language": "python",
   "name": "python3"
  },
  "language_info": {
   "codemirror_mode": {
    "name": "ipython",
    "version": 3
   },
   "file_extension": ".py",
   "mimetype": "text/x-python",
   "name": "python",
   "nbconvert_exporter": "python",
   "pygments_lexer": "ipython3",
   "version": "3.12.2"
  }
 },
 "nbformat": 4,
 "nbformat_minor": 5
}
