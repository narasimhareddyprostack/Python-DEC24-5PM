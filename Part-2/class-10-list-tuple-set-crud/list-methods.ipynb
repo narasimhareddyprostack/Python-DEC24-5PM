{
 "cells": [
  {
   "cell_type": "code",
   "execution_count": 2,
   "id": "1537db89-c874-45e0-9d7a-0a38252c2e80",
   "metadata": {},
   "outputs": [
    {
     "name": "stdout",
     "output_type": "stream",
     "text": [
      "2\n"
     ]
    }
   ],
   "source": [
    "#List object - CRUD method\n",
    "l1 = [10,20,30,40,30]\n",
    "#index 0 1  2  3  ,4\n",
    "index=l1.index(30)  # return index value of first occurance specifined element\n",
    "print(index)\n",
    "\n"
   ]
  },
  {
   "cell_type": "code",
   "execution_count": 3,
   "id": "d48a4c6a-7572-4cfb-8d1f-e5b171777a8f",
   "metadata": {},
   "outputs": [
    {
     "name": "stdout",
     "output_type": "stream",
     "text": [
      "4\n"
     ]
    }
   ],
   "source": [
    "l1 = [10,20,30,40,30,30,30]\n",
    "#index 0 1  2  3  ,4,5  ,6\n",
    "print(l1.count(30))  # return the no of occurences of specified element\n",
    "#4"
   ]
  },
  {
   "cell_type": "code",
   "execution_count": 4,
   "id": "052e570b-9f45-4ca0-b6a3-c6eb646cbad0",
   "metadata": {},
   "outputs": [
    {
     "name": "stdout",
     "output_type": "stream",
     "text": [
      "[10, 20, 30, 35]\n"
     ]
    }
   ],
   "source": [
    "#update - operation\n",
    "l1 =[10,20,30]\n",
    "l2= [40,50,60]\n",
    "l1.append(35)  # append element end of list\n",
    "print(l1)"
   ]
  },
  {
   "cell_type": "code",
   "execution_count": 5,
   "id": "fcd7de15-3580-48ab-92df-b431ae28aa98",
   "metadata": {},
   "outputs": [
    {
     "name": "stdout",
     "output_type": "stream",
     "text": [
      "[10, 20, 30, 40, 50, 60]\n"
     ]
    }
   ],
   "source": [
    "#update - operation\n",
    "l1 =[10,20,30]\n",
    "l2= [40,50,60]\n",
    "l1.extend(l2)  # adding :l2 - list object elements to l1 list.\n",
    "print(l1)"
   ]
  },
  {
   "cell_type": "code",
   "execution_count": 6,
   "id": "1e9098e8-0181-4dcb-935c-ca71f1493a52",
   "metadata": {},
   "outputs": [
    {
     "name": "stdout",
     "output_type": "stream",
     "text": [
      "[10, 15, 20, 30]\n"
     ]
    }
   ],
   "source": [
    "#update - operation\n",
    "l1 =[10,20,30]\n",
    "l1.insert(1,15)  #insert element at specified index position.\n",
    "print(l1) "
   ]
  },
  {
   "cell_type": "code",
   "execution_count": 7,
   "id": "70c17064-58e1-46ce-b7da-63c012ebd66e",
   "metadata": {},
   "outputs": [
    {
     "name": "stdout",
     "output_type": "stream",
     "text": [
      "[30, 20, 10]\n"
     ]
    }
   ],
   "source": [
    "#update - operation\n",
    "l1 =[10,20,30]\n",
    "l1.reverse()  # reverse list elements\n",
    "print(l1)"
   ]
  },
  {
   "cell_type": "code",
   "execution_count": 8,
   "id": "fba9ed77-e5a0-4ccc-97c5-3b2e3b766db1",
   "metadata": {},
   "outputs": [
    {
     "name": "stdout",
     "output_type": "stream",
     "text": [
      "[2, 20, 76, 100, 301]\n"
     ]
    }
   ],
   "source": [
    "#update - operation\n",
    "l1 =[100,20,301,2,76]\n",
    "l1.sort()  # sort list elements- Natural Sorting order(0-9 and A-Z)\n",
    "print(l1)"
   ]
  },
  {
   "cell_type": "code",
   "execution_count": 9,
   "id": "85493674-5f9a-49f9-91c5-da0f6f4268b2",
   "metadata": {},
   "outputs": [
    {
     "name": "stdout",
     "output_type": "stream",
     "text": [
      "['Chitra', 'Megha', 'Mrunalini', 'Syam', 'Vasu']\n"
     ]
    }
   ],
   "source": [
    "enames=[\"Mrunalini\",\"Megha\",\"Vasu\",\"Syam\",\"Chitra\"]\n",
    "enames.sort()  # Natural Sorting order - a to Z\n",
    "print(enames)"
   ]
  },
  {
   "cell_type": "code",
   "execution_count": 10,
   "id": "450f22cc-0d69-4dcc-9170-72d570539a2c",
   "metadata": {},
   "outputs": [
    {
     "name": "stdout",
     "output_type": "stream",
     "text": [
      "['Vasu', 'Syam', 'Mrunalini', 'Megha', 'Chitra']\n"
     ]
    }
   ],
   "source": [
    "enames=[\"Mrunalini\",\"Megha\",\"Vasu\",\"Syam\",\"Chitra\"]\n",
    "enames.sort(reverse=True)  \n",
    "print(enames)"
   ]
  },
  {
   "cell_type": "code",
   "execution_count": 11,
   "id": "45b4dcb1-e064-4cb9-8643-ec9c45b8380f",
   "metadata": {},
   "outputs": [
    {
     "ename": "TypeError",
     "evalue": "'<' not supported between instances of 'int' and 'str'",
     "output_type": "error",
     "traceback": [
      "\u001b[1;31m---------------------------------------------------------------------------\u001b[0m",
      "\u001b[1;31mTypeError\u001b[0m                                 Traceback (most recent call last)",
      "Cell \u001b[1;32mIn[11], line 2\u001b[0m\n\u001b[0;32m      1\u001b[0m raw_data \u001b[38;5;241m=\u001b[39m [\u001b[38;5;124m\"\u001b[39m\u001b[38;5;124mRahul\u001b[39m\u001b[38;5;124m\"\u001b[39m,\u001b[38;5;124m\"\u001b[39m\u001b[38;5;124mSonia\u001b[39m\u001b[38;5;124m\"\u001b[39m,\u001b[38;5;124m\"\u001b[39m\u001b[38;5;124mAmul\u001b[39m\u001b[38;5;124m\"\u001b[39m,\u001b[38;5;241m1000\u001b[39m,\u001b[38;5;241m20.5\u001b[39m]\n\u001b[1;32m----> 2\u001b[0m \u001b[43mraw_data\u001b[49m\u001b[38;5;241;43m.\u001b[39;49m\u001b[43msort\u001b[49m\u001b[43m(\u001b[49m\u001b[43m)\u001b[49m\n\u001b[0;32m      3\u001b[0m \u001b[38;5;28mprint\u001b[39m(raw_data)\n",
      "\u001b[1;31mTypeError\u001b[0m: '<' not supported between instances of 'int' and 'str'"
     ]
    }
   ],
   "source": [
    "raw_data = [\"Rahul\",\"Sonia\",\"Amul\",1000,20.5]\n",
    "raw_data.sort()\n",
    "print(raw_data)"
   ]
  },
  {
   "cell_type": "code",
   "execution_count": 12,
   "id": "0ea17417-5940-4f9d-a2d7-dd618928f7c3",
   "metadata": {},
   "outputs": [
    {
     "name": "stdout",
     "output_type": "stream",
     "text": [
      "[1.4555, 34, 20000.5]\n"
     ]
    }
   ],
   "source": [
    "sal = [20000.5,  34, 1.4555 ]\n",
    "sal.sort()\n",
    "print(sal)"
   ]
  },
  {
   "cell_type": "code",
   "execution_count": null,
   "id": "5979ddd2-1ea1-4de5-b023-eaa01afe6a63",
   "metadata": {},
   "outputs": [],
   "source": []
  }
 ],
 "metadata": {
  "kernelspec": {
   "display_name": "Python 3 (ipykernel)",
   "language": "python",
   "name": "python3"
  },
  "language_info": {
   "codemirror_mode": {
    "name": "ipython",
    "version": 3
   },
   "file_extension": ".py",
   "mimetype": "text/x-python",
   "name": "python",
   "nbconvert_exporter": "python",
   "pygments_lexer": "ipython3",
   "version": "3.12.2"
  }
 },
 "nbformat": 4,
 "nbformat_minor": 5
}
