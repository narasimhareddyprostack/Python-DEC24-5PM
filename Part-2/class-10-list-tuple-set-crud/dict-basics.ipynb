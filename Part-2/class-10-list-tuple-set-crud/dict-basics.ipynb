{
 "cells": [
  {
   "cell_type": "code",
   "execution_count": 2,
   "id": "962d37f5-8858-431c-ba65-1ec23107c6e5",
   "metadata": {},
   "outputs": [
    {
     "name": "stdout",
     "output_type": "stream",
     "text": [
      "{}\n",
      "{1: 'one', 2: 'two', 3: 'three'}\n",
      "{'email': 'rahul@oracle.com'}\n"
     ]
    }
   ],
   "source": [
    "d1={} \n",
    "d2={1:'one',2:'two',3:'three'}\n",
    "d3={'email':'rahul@gmail.com',\n",
    "    'email':'rahul@ibm.com',\n",
    "    'email':'rahul@oracle.com'\n",
    "   }\n",
    "print(d1)\n",
    "print(d2)\n",
    "print(d3)\n",
    "# - group of key:value pairs as one entiry\n",
    "# - duplicate keys are not allowed but values are allowed\n",
    "# - indexing concept not applicable"
   ]
  },
  {
   "cell_type": "code",
   "execution_count": 3,
   "id": "570842d1-ec43-4ece-928f-d0f0593152fa",
   "metadata": {},
   "outputs": [
    {
     "name": "stdout",
     "output_type": "stream",
     "text": [
      "<class 'dict'>\n",
      "<class 'dict'>\n"
     ]
    }
   ],
   "source": [
    "emp = {\n",
    "        'eid':101,\n",
    "        'ename':'Rahul',\n",
    "        'esal':45000.45\n",
    "      }\n",
    "user=dict()\n",
    "print(type(emp))\n",
    "print(type(user))"
   ]
  },
  {
   "cell_type": "code",
   "execution_count": 6,
   "id": "95fd0322-0b98-4903-9ff8-80104a2ffb76",
   "metadata": {},
   "outputs": [
    {
     "name": "stdout",
     "output_type": "stream",
     "text": [
      "101\n",
      "Rahul\n",
      "45000.45\n"
     ]
    }
   ],
   "source": [
    "emp = {\n",
    "        'eid':101,\n",
    "        'ename':'Rahul',\n",
    "        'esal':45000.45\n",
    "      }\n",
    "#read emp -dict values?\n",
    "print(emp.get('eid'))\n",
    "print(emp.get('ename'))\n",
    "print(emp.get('esal'))"
   ]
  },
  {
   "cell_type": "code",
   "execution_count": 8,
   "id": "28c5b8cc-5fec-44d3-9378-975b6be2e870",
   "metadata": {},
   "outputs": [
    {
     "name": "stdout",
     "output_type": "stream",
     "text": [
      "{'eid': 101, 'ename': 'Rahul Gandhi', 'esal': 55000.55}\n"
     ]
    }
   ],
   "source": [
    "emp = {\n",
    "        'eid':101,\n",
    "        'ename':'Rahul',\n",
    "        'esal':45000.45\n",
    "      }\n",
    "emp['ename'] = \"Rahul Gandhi\"\n",
    "emp['esal'] = 55000.55\n",
    "print(emp)"
   ]
  },
  {
   "cell_type": "code",
   "execution_count": 9,
   "id": "d6079ff2-62a7-4b87-a04d-a8957f2e840a",
   "metadata": {},
   "outputs": [
    {
     "name": "stdout",
     "output_type": "stream",
     "text": [
      "{'eid': 101, 'ename': 'Rahul Gandhi JI', 'esal': 45000.45, 'loc': 'Wayanad'}\n"
     ]
    }
   ],
   "source": [
    "emp = {\n",
    "        'eid':101,\n",
    "        'ename':'Rahul',\n",
    "        'esal':45000.45\n",
    "      }\n",
    "emp['ename'] = \"Rahul Gandhi JI\"\n",
    "emp['loc']  = 'Wayanad'\n",
    "print(emp)"
   ]
  },
  {
   "cell_type": "code",
   "execution_count": 10,
   "id": "cf6f1d82-a381-4824-8a20-5306b25b3f59",
   "metadata": {},
   "outputs": [
    {
     "name": "stdout",
     "output_type": "stream",
     "text": [
      "{'eid': 101, 'ename': 'Rahul Gandhi JI', 'loc': 'Wayanad'}\n"
     ]
    }
   ],
   "source": [
    "emp={'eid': 101, 'ename': 'Rahul Gandhi JI', 'esal': 45000.45, 'loc': 'Wayanad'}\n",
    "\n",
    "del emp['esal']\n",
    "print(emp)"
   ]
  },
  {
   "cell_type": "code",
   "execution_count": 11,
   "id": "7889f831-78c0-41e5-ac6b-1c7e43626922",
   "metadata": {},
   "outputs": [
    {
     "name": "stdout",
     "output_type": "stream",
     "text": [
      "[{'eid': 101, 'ename': 'Rahul', 'gender': 'Male'}, {'eid': 102, 'ename': 'Sonia', 'gender': 'Female'}, {'eid': 103, 'ename': 'Priyanka', 'gender': 'Female'}, {'eid': 104, 'ename': 'Modi', 'gender': 'Male'}]\n"
     ]
    }
   ],
   "source": [
    "employees=[\n",
    "          {'eid':101,'ename':'Rahul','gender':'Male'},\n",
    "          {'eid':102,'ename':'Sonia','gender':'Female'},\n",
    "          {'eid':103,'ename':'Priyanka','gender':'Female'},\n",
    "          {'eid':104,'ename':'Modi','gender':'Male'}\n",
    "          ]\n",
    "#print all employee names\n",
    "print(employees)\n"
   ]
  },
  {
   "cell_type": "code",
   "execution_count": 14,
   "id": "4c4d535a-07de-4af2-80d5-90aa66c70903",
   "metadata": {},
   "outputs": [
    {
     "name": "stdout",
     "output_type": "stream",
     "text": [
      "{'eid': 101, 'ename': 'Rahul', 'gender': 'Male'}\n",
      "Rahul\n",
      "Sonia\n",
      "Priyanka\n"
     ]
    }
   ],
   "source": [
    "employees=[\n",
    "          {'eid':101,'ename':'Rahul','gender':'Male'},\n",
    "          {'eid':102,'ename':'Sonia','gender':'Female'},\n",
    "          {'eid':103,'ename':'Priyanka','gender':'Female'},\n",
    "          {'eid':104,'ename':'Modi','gender':'Male'}\n",
    "          ]\n",
    "\n",
    "print(employees[0])\n",
    "print(employees[0].get('ename'))\n",
    "print(employees[1].get('ename'))\n",
    "print(employees[2].get('ename'))"
   ]
  },
  {
   "cell_type": "code",
   "execution_count": 16,
   "id": "46ab0e25-85fd-44ac-9630-5a3ac9a7658a",
   "metadata": {},
   "outputs": [
    {
     "name": "stdout",
     "output_type": "stream",
     "text": [
      "Rahul\n",
      "Sonia\n",
      "Priyanka\n",
      "Modi\n"
     ]
    }
   ],
   "source": [
    "employees=[\n",
    "          {'eid':101,'ename':'Rahul','gender':'Male'},\n",
    "          {'eid':102,'ename':'Sonia','gender':'Female'},\n",
    "          {'eid':103,'ename':'Priyanka','gender':'Female'},\n",
    "          {'eid':104,'ename':'Modi','gender':'Male'}\n",
    "          ]\n",
    "for employee in employees:\n",
    "    print(employee.get('ename'))"
   ]
  },
  {
   "cell_type": "code",
   "execution_count": null,
   "id": "6731dfc1-80dc-40d8-af6c-37629e0088ee",
   "metadata": {},
   "outputs": [],
   "source": []
  }
 ],
 "metadata": {
  "kernelspec": {
   "display_name": "Python 3 (ipykernel)",
   "language": "python",
   "name": "python3"
  },
  "language_info": {
   "codemirror_mode": {
    "name": "ipython",
    "version": 3
   },
   "file_extension": ".py",
   "mimetype": "text/x-python",
   "name": "python",
   "nbconvert_exporter": "python",
   "pygments_lexer": "ipython3",
   "version": "3.12.2"
  }
 },
 "nbformat": 4,
 "nbformat_minor": 5
}
