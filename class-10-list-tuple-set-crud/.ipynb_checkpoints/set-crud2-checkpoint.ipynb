{
 "cells": [
  {
   "cell_type": "code",
   "execution_count": 2,
   "id": "752e4659-15d9-4252-b464-888eae6f690a",
   "metadata": {},
   "outputs": [
    {
     "name": "stdout",
     "output_type": "stream",
     "text": [
      "{104, 101, 102, 103}\n",
      "{101, 102, 103}\n"
     ]
    }
   ],
   "source": [
    "eids={101,102,103,104}\n",
    "print(eids)\n",
    "eids.pop()\n",
    "\n",
    "print(eids)"
   ]
  },
  {
   "cell_type": "code",
   "execution_count": 3,
   "id": "0af8bf06-cc99-41c4-962a-331f702a7c2c",
   "metadata": {},
   "outputs": [
    {
     "name": "stdout",
     "output_type": "stream",
     "text": [
      "{'Sonia', 'Rahul', 'Modi'}\n"
     ]
    }
   ],
   "source": [
    "enames={\"Rahul\",\"Sonia\",\"Priya\",\"Modi\"}\n",
    "enames.pop()\n",
    "print(enames)"
   ]
  },
  {
   "cell_type": "code",
   "execution_count": 4,
   "id": "4b328b4e-7608-46ad-8d16-1f355c197ef0",
   "metadata": {},
   "outputs": [
    {
     "name": "stdout",
     "output_type": "stream",
     "text": [
      "{'Priya', 'Sonia', 'Rahul'}\n"
     ]
    }
   ],
   "source": [
    "enames={\"Rahul\",\"Sonia\",\"Priya\",\"Modi\"}\n",
    "#set - discard vs set- remove method\n",
    "enames.remove(\"Modi\")\n",
    "print(enames)"
   ]
  },
  {
   "cell_type": "code",
   "execution_count": 5,
   "id": "875fabbd-d2fb-43c1-a402-599fec625a25",
   "metadata": {},
   "outputs": [
    {
     "name": "stdout",
     "output_type": "stream",
     "text": [
      "{'Priya', 'Sonia', 'Rahul'}\n"
     ]
    }
   ],
   "source": [
    "enames={\"Rahul\",\"Sonia\",\"Priya\",\"Modi\"}\n",
    "#set - discard vs set- remove method\n",
    "enames.discard(\"Modi\")\n",
    "print(enames)"
   ]
  },
  {
   "cell_type": "code",
   "execution_count": 6,
   "id": "c5ed4668-25ef-4ab8-a3f6-a207bb4ab518",
   "metadata": {},
   "outputs": [
    {
     "ename": "KeyError",
     "evalue": "'Amith'",
     "output_type": "error",
     "traceback": [
      "\u001b[1;31m---------------------------------------------------------------------------\u001b[0m",
      "\u001b[1;31mKeyError\u001b[0m                                  Traceback (most recent call last)",
      "Cell \u001b[1;32mIn[6], line 2\u001b[0m\n\u001b[0;32m      1\u001b[0m enames\u001b[38;5;241m=\u001b[39m{\u001b[38;5;124m\"\u001b[39m\u001b[38;5;124mRahul\u001b[39m\u001b[38;5;124m\"\u001b[39m,\u001b[38;5;124m\"\u001b[39m\u001b[38;5;124mSonia\u001b[39m\u001b[38;5;124m\"\u001b[39m,\u001b[38;5;124m\"\u001b[39m\u001b[38;5;124mPriya\u001b[39m\u001b[38;5;124m\"\u001b[39m,\u001b[38;5;124m\"\u001b[39m\u001b[38;5;124mModi\u001b[39m\u001b[38;5;124m\"\u001b[39m}\n\u001b[1;32m----> 2\u001b[0m \u001b[43menames\u001b[49m\u001b[38;5;241;43m.\u001b[39;49m\u001b[43mremove\u001b[49m\u001b[43m(\u001b[49m\u001b[38;5;124;43m\"\u001b[39;49m\u001b[38;5;124;43mAmith\u001b[39;49m\u001b[38;5;124;43m\"\u001b[39;49m\u001b[43m)\u001b[49m  \u001b[38;5;66;03m# KeyError\u001b[39;00m\n\u001b[0;32m      3\u001b[0m \u001b[38;5;28mprint\u001b[39m(enames)\n",
      "\u001b[1;31mKeyError\u001b[0m: 'Amith'"
     ]
    }
   ],
   "source": [
    "enames={\"Rahul\",\"Sonia\",\"Priya\",\"Modi\"}\n",
    "enames.remove(\"Amith\")  # KeyError\n",
    "print(enames)"
   ]
  },
  {
   "cell_type": "code",
   "execution_count": 7,
   "id": "76973ed6-6fe2-4359-b090-df3eadf398b5",
   "metadata": {},
   "outputs": [
    {
     "name": "stdout",
     "output_type": "stream",
     "text": [
      "{'Priya', 'Sonia', 'Rahul', 'Modi'}\n"
     ]
    }
   ],
   "source": [
    "enames={\"Rahul\",\"Sonia\",\"Priya\",\"Modi\"}\n",
    "enames.discard(\"Amith\")  # No Error\n",
    "print(enames)"
   ]
  },
  {
   "cell_type": "code",
   "execution_count": 8,
   "id": "93f4ef18-4d67-4eb8-ae30-ae33b73d15a6",
   "metadata": {},
   "outputs": [
    {
     "name": "stdout",
     "output_type": "stream",
     "text": [
      "{'Sonia', 'Rahul', 'Modi', 'Priya', 'Amith'}\n"
     ]
    }
   ],
   "source": [
    "enames={\"Rahul\",\"Sonia\",\"Priya\",\"Modi\"}\n",
    "enames.add(\"Amith\")\n",
    "print(enames)"
   ]
  },
  {
   "cell_type": "code",
   "execution_count": 9,
   "id": "c1757997-565b-446d-a627-1e20578a4e78",
   "metadata": {},
   "outputs": [
    {
     "name": "stdout",
     "output_type": "stream",
     "text": [
      "{'Priya', 'Rajni', 'Vijay', 'Rahul', 'Sonia', 'VS', 'Modi'}\n"
     ]
    }
   ],
   "source": [
    "enames={\"Rahul\",\"Sonia\",\"Priya\",\"Modi\"}\n",
    "users={\"Rajni\",\"VS\",\"Vijay\"}\n",
    "enames.update(users)\n",
    "print(enames)"
   ]
  },
  {
   "cell_type": "code",
   "execution_count": null,
   "id": "d747ba0e-e14b-42ac-af2d-93c85eca1dc2",
   "metadata": {},
   "outputs": [],
   "source": []
  }
 ],
 "metadata": {
  "kernelspec": {
   "display_name": "Python 3 (ipykernel)",
   "language": "python",
   "name": "python3"
  },
  "language_info": {
   "codemirror_mode": {
    "name": "ipython",
    "version": 3
   },
   "file_extension": ".py",
   "mimetype": "text/x-python",
   "name": "python",
   "nbconvert_exporter": "python",
   "pygments_lexer": "ipython3",
   "version": "3.12.2"
  }
 },
 "nbformat": 4,
 "nbformat_minor": 5
}
