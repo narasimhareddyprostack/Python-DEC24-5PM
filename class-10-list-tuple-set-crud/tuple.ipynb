{
 "cells": [
  {
   "cell_type": "code",
   "execution_count": 1,
   "id": "30a16b04-4f24-43d6-85ba-677e8501718d",
   "metadata": {},
   "outputs": [
    {
     "name": "stdout",
     "output_type": "stream",
     "text": [
      "<class 'tuple'>\n",
      "<class 'tuple'>\n",
      "<class 'tuple'>\n",
      "<class 'tuple'>\n",
      "()\n",
      "(10, 20, 30)\n",
      "(10, 20, 30, 40)\n",
      "(10, True, 'Rahul', 10, 'Rahul', 10)\n"
     ]
    }
   ],
   "source": [
    "#what is typle?  - read only version of list\n",
    "t1=()\n",
    "t2=10,20,30\n",
    "t3=tuple([10,20,30,40])\n",
    "t4=(10,True,\"Rahul\",10,\"Rahul\",10)\n",
    "\n",
    "print(type(t1))\n",
    "print(type(t2))\n",
    "print(type(t3))\n",
    "print(type(t4))\n",
    "print(t1)\n",
    "print(t2)\n",
    "print(t3)\n",
    "print(t4)\n"
   ]
  },
  {
   "cell_type": "code",
   "execution_count": 2,
   "id": "a60000f3-cf84-47b0-ad70-6e6399e9ae34",
   "metadata": {},
   "outputs": [
    {
     "name": "stdout",
     "output_type": "stream",
     "text": [
      "Rahul\n",
      "Sonia\n",
      "Priya\n"
     ]
    }
   ],
   "source": [
    "enames=(\"Rahul\",\"Sonia\",\"Priya\",\"Modi\",\"Amith\")\n",
    "\n",
    "#how to read tuple elements - using index\n",
    "print(enames[0])\n",
    "print(enames[1])\n",
    "print(enames[2])\n"
   ]
  },
  {
   "cell_type": "code",
   "execution_count": 3,
   "id": "1c1f2eb3-3a75-49ca-81f0-eeaf0de35fc3",
   "metadata": {},
   "outputs": [
    {
     "name": "stdout",
     "output_type": "stream",
     "text": [
      "Rahul\n",
      "Sonia\n",
      "Priya\n",
      "Modi\n",
      "Amith\n"
     ]
    }
   ],
   "source": [
    "enames=(\"Rahul\",\"Sonia\",\"Priya\",\"Modi\",\"Amith\")\n",
    "# iterate tuple object - using for loop and while \n",
    "for ename in enames:\n",
    "    print(ename)"
   ]
  },
  {
   "cell_type": "code",
   "execution_count": 4,
   "id": "2029c55c-0cee-4813-bedd-4d2cac351cbf",
   "metadata": {},
   "outputs": [
    {
     "name": "stdout",
     "output_type": "stream",
     "text": [
      "Rahul\n",
      "Sonia\n",
      "Priya\n",
      "Modi\n",
      "Amith\n"
     ]
    }
   ],
   "source": [
    "enames=(\"Rahul\",\"Sonia\",\"Priya\",\"Modi\",\"Amith\")\n",
    "# iterate tuple object - using for loop and while \n",
    "i=0\n",
    "while i<=len(enames)-1:\n",
    "    print(enames[i])\n",
    "    i=i+1"
   ]
  },
  {
   "cell_type": "code",
   "execution_count": 5,
   "id": "68f174ce-60a9-49b7-89d9-96dd06468630",
   "metadata": {},
   "outputs": [
    {
     "ename": "AttributeError",
     "evalue": "'tuple' object has no attribute 'clear'",
     "output_type": "error",
     "traceback": [
      "\u001b[1;31m---------------------------------------------------------------------------\u001b[0m",
      "\u001b[1;31mAttributeError\u001b[0m                            Traceback (most recent call last)",
      "Cell \u001b[1;32mIn[5], line 3\u001b[0m\n\u001b[0;32m      1\u001b[0m enames\u001b[38;5;241m=\u001b[39m(\u001b[38;5;124m\"\u001b[39m\u001b[38;5;124mRahul\u001b[39m\u001b[38;5;124m\"\u001b[39m,\u001b[38;5;124m\"\u001b[39m\u001b[38;5;124mSonia\u001b[39m\u001b[38;5;124m\"\u001b[39m,\u001b[38;5;124m\"\u001b[39m\u001b[38;5;124mPriya\u001b[39m\u001b[38;5;124m\"\u001b[39m,\u001b[38;5;124m\"\u001b[39m\u001b[38;5;124mModi\u001b[39m\u001b[38;5;124m\"\u001b[39m,\u001b[38;5;124m\"\u001b[39m\u001b[38;5;124mAmith\u001b[39m\u001b[38;5;124m\"\u001b[39m)\n\u001b[0;32m      2\u001b[0m \u001b[38;5;66;03m# iterate tuple object - using for loop and while \u001b[39;00m\n\u001b[1;32m----> 3\u001b[0m \u001b[43menames\u001b[49m\u001b[38;5;241;43m.\u001b[39;49m\u001b[43mclear\u001b[49m()\n",
      "\u001b[1;31mAttributeError\u001b[0m: 'tuple' object has no attribute 'clear'"
     ]
    }
   ],
   "source": [
    "enames=(\"Rahul\",\"Sonia\",\"Priya\",\"Modi\",\"Amith\")\n",
    "# iterate tuple object - using for loop and while \n",
    "enames.clear()"
   ]
  },
  {
   "cell_type": "code",
   "execution_count": 13,
   "id": "b6e75947-18d9-449a-80d5-380683d21626",
   "metadata": {},
   "outputs": [
    {
     "ename": "AttributeError",
     "evalue": "'tuple' object has no attribute 'insert'",
     "output_type": "error",
     "traceback": [
      "\u001b[1;31m---------------------------------------------------------------------------\u001b[0m",
      "\u001b[1;31mAttributeError\u001b[0m                            Traceback (most recent call last)",
      "Cell \u001b[1;32mIn[13], line 2\u001b[0m\n\u001b[0;32m      1\u001b[0m t1 \u001b[38;5;241m=\u001b[39m (\u001b[38;5;241m10\u001b[39m,\u001b[38;5;241m20\u001b[39m)\n\u001b[1;32m----> 2\u001b[0m \u001b[43mt1\u001b[49m\u001b[38;5;241;43m.\u001b[39;49m\u001b[43minsert\u001b[49m(\u001b[38;5;241m1\u001b[39m,\u001b[38;5;241m10\u001b[39m)\n",
      "\u001b[1;31mAttributeError\u001b[0m: 'tuple' object has no attribute 'insert'"
     ]
    }
   ],
   "source": [
    "t1 = (10,20)\n",
    "t1.insert(1,10)"
   ]
  },
  {
   "cell_type": "code",
   "execution_count": null,
   "id": "eda39df6-2411-4600-9449-b4e58bbf69c1",
   "metadata": {},
   "outputs": [],
   "source": []
  }
 ],
 "metadata": {
  "kernelspec": {
   "display_name": "Python 3 (ipykernel)",
   "language": "python",
   "name": "python3"
  },
  "language_info": {
   "codemirror_mode": {
    "name": "ipython",
    "version": 3
   },
   "file_extension": ".py",
   "mimetype": "text/x-python",
   "name": "python",
   "nbconvert_exporter": "python",
   "pygments_lexer": "ipython3",
   "version": "3.12.2"
  }
 },
 "nbformat": 4,
 "nbformat_minor": 5
}
